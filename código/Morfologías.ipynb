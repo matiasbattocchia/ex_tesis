{
 "cells": [
  {
   "cell_type": "code",
   "execution_count": 92,
   "metadata": {
    "collapsed": false
   },
   "outputs": [],
   "source": [
    "import astropy.io.fits as pf\n",
    "import numpy as np\n",
    "import pandas as pd\n",
    "import matplotlib.pyplot as plt\n",
    "import math\n",
    "import os\n",
    "import multiprocessing\n",
    "import subprocess\n",
    "import glob\n",
    "import re\n",
    "%matplotlib inline"
   ]
  },
  {
   "cell_type": "markdown",
   "metadata": {
    "collapsed": true
   },
   "source": [
    "### Directorios del proyecto"
   ]
  },
  {
   "cell_type": "code",
   "execution_count": 78,
   "metadata": {
    "collapsed": false
   },
   "outputs": [],
   "source": [
    "DIR_PROYECTO  = '/home/matias/tesis/'\n",
    "DIR_MOSAICOS  = DIR_PROYECTO + 'fits_face/'\n",
    "DIR_CATÁLOGOS = DIR_PROYECTO + 'catalogues/'\n",
    "DIR_SEGMENTACIONES = DIR_PROYECTO + 'segmentation/'\n",
    "DIR_MORFOLOGÍAS    = DIR_PROYECTO + 'morfologías/'\n",
    "DIR_DATOS_EAGLE    = DIR_PROYECTO + 'tablas/'\n",
    "DIR_LOTZ = DIR_PROYECTO + 'gm20/'"
   ]
  },
  {
   "cell_type": "markdown",
   "metadata": {},
   "source": [
    "### Definición de valores de filtro"
   ]
  },
  {
   "cell_type": "code",
   "execution_count": 3,
   "metadata": {
    "collapsed": true
   },
   "outputs": [],
   "source": [
    "U = 121671348.887\n",
    "G = 168273491.446\n",
    "R = 178848396.083\n",
    "I = 69397708.7252\n",
    "Z = 59157262.0017\n",
    "U_PRI = 126207773.267\n",
    "G_PRI = 149732062.76\n",
    "R_PRI = 188318397.068\n",
    "I_PRI = 67579475.1401\n",
    "Z_PRI = 50496673.9991"
   ]
  },
  {
   "cell_type": "markdown",
   "metadata": {},
   "source": [
    "### Generación del mapa de pesos"
   ]
  },
  {
   "cell_type": "code",
   "execution_count": 54,
   "metadata": {
    "collapsed": false
   },
   "outputs": [],
   "source": [
    "hdu = pf.PrimaryHDU(np.ones((256, 256)))\n",
    "hdu.writeto(DIR_PROYECTO + 'wht1.fits', overwrite=True)"
   ]
  },
  {
   "cell_type": "markdown",
   "metadata": {},
   "source": [
    "### Generación de archivos para correr el programa de Lotz en modo 'batch'\n",
    "`zeropt.dat` tiene las magnitudes de base de los mosaicos y `run_gmorph.pro` los mosaicos a procesar. Se generan en el mismo bucle para que el orden de las magnitudes se corresponda con el de los mosaicos."
   ]
  },
  {
   "cell_type": "markdown",
   "metadata": {},
   "source": [
    "Borramos los lotes existentes..."
   ]
  },
  {
   "cell_type": "code",
   "execution_count": 27,
   "metadata": {
    "collapsed": false
   },
   "outputs": [],
   "source": [
    "for file in glob.glob('*.pro'):\n",
    "    os.remove(file)"
   ]
  },
  {
   "cell_type": "markdown",
   "metadata": {},
   "source": [
    "Debido a un error del programa de Lotz que hace que el IDL arroje la excepción \"program code area full\" en vez de generar un único lote con todos los mosaicos a procesar, generamos varios lotes de hasta 100 mosaicos cada uno. "
   ]
  },
  {
   "cell_type": "code",
   "execution_count": 11,
   "metadata": {
    "collapsed": false
   },
   "outputs": [],
   "source": [
    "def chunks(l, n):\n",
    "    \"\"\"Yield successive n-sized chunks from l.\"\"\"\n",
    "    for i in range(0, len(l), n):\n",
    "        yield l[i:i + n]"
   ]
  },
  {
   "cell_type": "code",
   "execution_count": 28,
   "metadata": {
    "collapsed": false
   },
   "outputs": [],
   "source": [
    "N = 100 # chunk size\n",
    "\n",
    "for index, chunk in enumerate(chunks(os.listdir(DIR_MOSAICOS), N)):\n",
    "    \n",
    "    with open('zeropt.dat', 'w') as zeropt, open('run_gmorph_%02d.pro' % index, 'w') as run_gmorph:\n",
    "    \n",
    "        for basename_mosaico in chunk:\n",
    "\n",
    "            #with pf.open(DIR_MOSAICOS + basename_mosaico) as fits_mosaico:\n",
    "            #    flujo_total_filtro    = np.sum(fits_mosaico[0].data) / R # flujo total / valor de filtro\n",
    "            #    magnitud_total_filtro = -2.5 * np.log10(flujo_total_filtro / (3.631e6 * 4.8532896**2))\n",
    "\n",
    "            #    zeropt.write(str(magnitud_total_filtro) + '\\n')\n",
    "\n",
    "            nombre = os.path.splitext(basename_mosaico)[0] # separa el nombre del archivo de su extensión\n",
    "\n",
    "            comando = \"get_gmorph_new, 0, '%s', '%s', '%s', '%s', '%s'\" % ( \\\n",
    "                # catálogo\n",
    "                DIR_CATÁLOGOS      + nombre + '.cat',      \\\n",
    "                # mosaico\n",
    "                DIR_MOSAICOS       + nombre + '.fits',     \\\n",
    "                # mapa de pesos\n",
    "                DIR_PROYECTO       + 'wht1' + '.fits',     \\\n",
    "                # mapa de segmentación\n",
    "                DIR_SEGMENTACIONES + nombre + '.seg.fits', \\\n",
    "                # archivo de salida\n",
    "                DIR_MORFOLOGÍAS    + nombre + '.morph'     \\\n",
    "            )\n",
    "\n",
    "            # Cada línea luce como: get_gmorph_new, 0, 'xxx.cat', 'xxx.fits', 'wht1.fits', 'xxx.fits', 'xxx.morph'\n",
    "            # \"where 0 is the line number in xxx.cat of the starting object\"\n",
    "            run_gmorph.write(comando + '\\n')\n",
    "\n",
    "        run_gmorph.write('exit')"
   ]
  },
  {
   "cell_type": "markdown",
   "metadata": {},
   "source": [
    "Borramos las morfologías existentes..."
   ]
  },
  {
   "cell_type": "code",
   "execution_count": 29,
   "metadata": {
    "collapsed": false
   },
   "outputs": [],
   "source": [
    "for file in glob.glob(DIR_MORFOLOGÍAS + '*.morph'):\n",
    "    os.remove(file)"
   ]
  },
  {
   "cell_type": "markdown",
   "metadata": {},
   "source": [
    "Procesamos los lotes con IDL; lo hacemos en paralelo para aprovechar todos los núcleos de la computadora."
   ]
  },
  {
   "cell_type": "code",
   "execution_count": 32,
   "metadata": {
    "collapsed": false
   },
   "outputs": [],
   "source": [
    "def idl(x):\n",
    "    subprocess.run(['idl', x])\n",
    "    \n",
    "with multiprocessing.Pool() as p:\n",
    "    p.map(idl, glob.glob('*.pro'))"
   ]
  },
  {
   "cell_type": "markdown",
   "metadata": {},
   "source": [
    "Unimos todos los archivos creados por el programa de Lotz en uno solo. Hay una galaxia por archivo. Además extraemos la ID de la galaxia del nombre del archivo —ya que el programa de Lotz no se fija en esto— y la incluimos dentro del archivo que estamos generando para después tenerlas a mano."
   ]
  },
  {
   "cell_type": "code",
   "execution_count": 62,
   "metadata": {
    "collapsed": false
   },
   "outputs": [],
   "source": [
    "with open('compendio.morph', 'w') as compendio:\n",
    "    for file in glob.glob(DIR_MORFOLOGÍAS + '*.morph'):\n",
    "        id = re.search('\\d+', file).group(0)\n",
    "        \n",
    "        with open(file, 'r') as morfología:    \n",
    "            for line in morfología:\n",
    "                if line[0] != '#': # si no es un comentario...\n",
    "                    compendio.write(id + line)"
   ]
  },
  {
   "cell_type": "markdown",
   "metadata": {},
   "source": [
    "### Carga de la consulta a la base de datos de EAGLE"
   ]
  },
  {
   "cell_type": "code",
   "execution_count": 79,
   "metadata": {
    "collapsed": false
   },
   "outputs": [],
   "source": [
    "encabezado = [\n",
    "  'id',\n",
    "  'sfr',\n",
    "  'm_dm',\n",
    "  'm_gs',\n",
    "  'm_st',\n",
    "  'r_hm',\n",
    "  'u_mag',\n",
    "  'g_mag',\n",
    "  'r_mag'\n",
    "]\n",
    "\n",
    "columnas = [0,1,2,3,4,5,10,11,12]\n",
    "\n",
    "eagle_data = pd.read_csv(DIR_DATOS_EAGLE + 'eagle_db_fits_27.dat', names=encabezado, usecols=columnas)\n",
    "\n",
    "eagle_data['color_gr'] = eagle_data.g_mag - eagle_data.r_mag\n",
    "\n",
    "# Magnitudes del SDSS a U-B: U-B = 0.78 * (u - g) - 0.88\n",
    "eagle_data['color_ub'] = 0.78 * (eagle_data.u_mag - eagle_data.r_mag) - 0.88"
   ]
  },
  {
   "cell_type": "markdown",
   "metadata": {},
   "source": [
    "### Carga de las morfologías (salida del programa de Lotz)\n",
    "Do not trust morphologies when `FLAG=1` and/or `<S/N> < 2.5`  and/or `R_ell < 2 x PSF FWHM` (see Lotz et al. astro-ph/0509106)."
   ]
  },
  {
   "cell_type": "code",
   "execution_count": 74,
   "metadata": {
    "collapsed": false
   },
   "outputs": [],
   "source": [
    "encabezado = [\n",
    "  'id',\n",
    "  's_n',\n",
    "  'r_ell', # elliptic petrosian radius\n",
    "  'gini',\n",
    "  'm20',\n",
    "  'flag'\n",
    "]\n",
    "\n",
    "columnas = [0,6,10,20,21,22]\n",
    "\n",
    "lotz_data = pd.read_csv('compendio.morph', names=encabezado, usecols=columnas, sep='\\s+')\n",
    "\n",
    "lotz_data = lotz_data[(lotz_data.flag == 0) & (lotz_data.s_n >= 2.5)]"
   ]
  },
  {
   "cell_type": "markdown",
   "metadata": {},
   "source": [
    "### Join EAGLE con Lotz"
   ]
  },
  {
   "cell_type": "code",
   "execution_count": 88,
   "metadata": {
    "collapsed": false
   },
   "outputs": [],
   "source": [
    "df = pd.merge(eagle_data, lotz_data, how='inner', on='id')"
   ]
  },
  {
   "cell_type": "code",
   "execution_count": 93,
   "metadata": {
    "collapsed": false
   },
   "outputs": [
    {
     "data": {
      "text/plain": [
       "<matplotlib.axes._subplots.AxesSubplot at 0x7f2d71724dd8>"
      ]
     },
     "execution_count": 93,
     "metadata": {},
     "output_type": "execute_result"
    },
    {
     "data": {
      "image/png": "[encoded data removed]",
      "text/plain": [
       "<matplotlib.figure.Figure at 0x7f2d71cc3ef0>"
      ]
     },
     "metadata": {},
     "output_type": "display_data"
    }
   ],
   "source": [
    "df.plot.scatter(x='m20', y='gini')"
   ]
  },
  {
   "cell_type": "code",
   "execution_count": null,
   "metadata": {
    "collapsed": false
   },
   "outputs": [],
   "source": []
  }
 ],
 "metadata": {
  "kernelspec": {
   "display_name": "Python 3",
   "language": "python",
   "name": "python3"
  },
  "language_info": {
   "codemirror_mode": {
    "name": "ipython",
    "version": 3
   },
   "file_extension": ".py",
   "mimetype": "text/x-python",
   "name": "python",
   "nbconvert_exporter": "python",
   "pygments_lexer": "ipython3",
   "version": "3.5.2"
  }
 },
 "nbformat": 4,
 "nbformat_minor": 0
}
