{
 "cells": [
  {
   "cell_type": "code",
   "execution_count": 52,
   "metadata": {
    "collapsed": false
   },
   "outputs": [],
   "source": [
    "import astropy.io.fits as pf\n",
    "import numpy as np\n",
    "import matplotlib.pyplot as plt\n",
    "import math\n",
    "import os"
   ]
  },
  {
   "cell_type": "markdown",
   "metadata": {
    "collapsed": true
   },
   "source": [
    "### Directorios del proyecto"
   ]
  },
  {
   "cell_type": "code",
   "execution_count": 47,
   "metadata": {
    "collapsed": false
   },
   "outputs": [],
   "source": [
    "DIR_PROYECTO  = '/home/matias/tesis/'\n",
    "DIR_MOSAICOS  = DIR_PROYECTO + 'fits_face/'\n",
    "DIR_CATÁLOGOS = DIR_PROYECTO + 'catalogues/'\n",
    "DIR_SEGMENTACIONES = DIR_PROYECTO + 'segmentation/'\n",
    "DIR_MORFOLOGÍAS    = DIR_PROYECTO + 'morfologías/'\n",
    "DIR_DATOS_EAGLE    = DIR_PROYECTO + 'tablas/'\n",
    "DIR_LOTZ = DIR_PROYECTO + 'gm20/'"
   ]
  },
  {
   "cell_type": "markdown",
   "metadata": {},
   "source": [
    "### Definición de valores de filtro"
   ]
  },
  {
   "cell_type": "code",
   "execution_count": 48,
   "metadata": {
    "collapsed": true
   },
   "outputs": [],
   "source": [
    "U = 121671348.887\n",
    "G = 168273491.446\n",
    "R = 178848396.083\n",
    "I = 69397708.7252\n",
    "Z = 59157262.0017\n",
    "U_PRI = 126207773.267\n",
    "G_PRI = 149732062.76\n",
    "R_PRI = 188318397.068\n",
    "I_PRI = 67579475.1401\n",
    "Z_PRI = 50496673.9991"
   ]
  },
  {
   "cell_type": "markdown",
   "metadata": {},
   "source": [
    "### Carga del SQL query a la base de datos de EAGLE"
   ]
  },
  {
   "cell_type": "code",
   "execution_count": 7,
   "metadata": {
    "collapsed": false
   },
   "outputs": [],
   "source": [
    "import pandas as pd\n",
    "\n",
    "encabezado = [\n",
    "  'id',\n",
    "  'sfr',\n",
    "  'm_dm',\n",
    "  'm_gs',\n",
    "  'm_st',\n",
    "  'r_hm',\n",
    "  'u_mag',\n",
    "  'g_mag',\n",
    "  'r_mag'\n",
    "]\n",
    "\n",
    "columnas = [0,1,2,3,4,5,10,11,12]\n",
    "\n",
    "eagle_data = pd.read_csv(DIR_EAGLE_DATA + 'eagle_db_fits_27.dat', names=encabezado, usecols=columnas)\n",
    "\n",
    "eagle_data['color_gr'] = eagle_data['g_mag'] - eagle_data['r_mag']\n",
    "\n",
    "# Magnitudes del SDSS a U-B: U-B = 0.78 * (u - g) - 0.88\n",
    "eagle_data['color_ub'] = 0.78 * (eagle_data['u_mag'] - eagle_data['r_mag']) - 0.88"
   ]
  },
  {
   "cell_type": "markdown",
   "metadata": {},
   "source": [
    "### Generación del mapa de pesos"
   ]
  },
  {
   "cell_type": "code",
   "execution_count": null,
   "metadata": {
    "collapsed": true
   },
   "outputs": [],
   "source": [
    "# Primero creo un HDU object\n",
    "hdu = fits.PrimaryHDU()\n",
    "\n",
    "# Lo lleno con random\n",
    "#hdu.data = np.random.random((256,256))\n",
    "# Lo lleno con 1\n",
    "hdu.data = np.ones((256, 256))\n",
    "\n",
    "# Obtiene la cabecera primaria\n",
    "#cabecera = hdu[0].header\n",
    "\n",
    "hdu.writeto('wht1.fits', clobber=True)"
   ]
  },
  {
   "cell_type": "markdown",
   "metadata": {},
   "source": [
    "### Generación de archivos para correr el programa de Lotz en modo 'batch'\n",
    "`zeropt.dat` tiene las magnitudes de base de los mosaicos y `run_gmorph.pro` los mosaicos a procesar. Se generan en el mismo bucle para que el orden de las magnitudes se corresponda con el de los mosaicos."
   ]
  },
  {
   "cell_type": "code",
   "execution_count": 51,
   "metadata": {
    "collapsed": false
   },
   "outputs": [],
   "source": [
    "with open('zeropt.dat', 'wt') as zeropt, open('run_gmorph.pro', 'wt') as run_gmorph:\n",
    "\n",
    "    for basename_mosaico in os.listdir(DIR_MOSAICOS):\n",
    "\n",
    "        with pf.open(DIR_MOSAICOS + basename_mosaico) as fits_mosaico:\n",
    "            flujo_total_filtro    = np.sum(fits_mosaico[0].data) / R # flujo total / valor de filtro\n",
    "            magnitud_total_filtro = -2.5 * np.log10(flujo_total_filtro / (3.631e6 * 4.8532896**2))\n",
    "\n",
    "            zeropt.write(str(magnitud_total_filtro) + '\\n')\n",
    "\n",
    "\n",
    "        nombre = os.path.splitext(basename_mosaico)[0] # separa el nombre del archivo de su extensión\n",
    "\n",
    "        comando = \"get_gmorph_new, 0, '%s', '%s', '%s', '%s', '%s'\" % ( \\\n",
    "            # catálogo\n",
    "            DIR_CATÁLOGOS      + nombre + '.cat',      \\\n",
    "            # mosaico\n",
    "            DIR_MOSAICOS       + nombre + '.fits',     \\\n",
    "            # mapa de pesos\n",
    "            DIR_PROYECTO       + 'wht1' + '.fits',     \\\n",
    "            # mapa de segmentación\n",
    "            DIR_SEGMENTACIONES + nombre + '.seg.fits', \\\n",
    "            # archivo de salida\n",
    "            DIR_MORFOLOGÍAS    + nombre + '.morph'     \\\n",
    "        )\n",
    "\n",
    "        # Cada línea luce como: get_gmorph_new, 0, 'xxx.cat', 'xxx.fits', 'wht1.fits', 'xxx.fits', 'xxx.morph'\n",
    "        # \"where 0 is the line number in xxx.cat of the starting object\"\n",
    "        run_gmorph.write(comando + '\\n')\n",
    "\n",
    "    run_gmorph.write('exit')"
   ]
  },
  {
   "cell_type": "code",
   "execution_count": null,
   "metadata": {
    "collapsed": false
   },
   "outputs": [],
   "source": [
    "%matplotlib inline\n",
    "import numpy as np\n",
    "import matplotlib\n",
    "import matplotlib.pyplot as plt\n",
    "from matplotlib.colors import LogNorm\n",
    "from astropy.io import ascii \n",
    "import csv\n",
    "import sys\n",
    "import h5py\n",
    "\n",
    "\n",
    "gini_eag = np.zeros(dim)\n",
    "m20_eag = np.zeros(dim)\n",
    "asi_eag = np.zeros(dim)\n",
    "s_eag = np.zeros(dim)\n",
    "i=0\n",
    "#with open('out_face_r_test.morph', 'r') as Gf:\n",
    "with open('out_face_r.morph', 'r') as Gf:    \n",
    "    for line in Gf:\n",
    "        list_eag = line.split()\n",
    "        gini_eag[i] = list_eag[19]\n",
    "        m20_eag[i] = list_eag[20]\n",
    "        i = i +1\n",
    "Gf.close()\n",
    "\n",
    "print(gini_eag)\n",
    "\n",
    "F = 5 * (-0.7783 - 0.14 * m20_eag + gini_eag)/1.00975\n",
    "\n",
    "# Illustris\n",
    "# cam0:10654 cam1:10618 cam2:10639 cam3:10620\n",
    "gini_ill = np.zeros(10654)\n",
    "m20_ill = np.zeros(10654)\n",
    "f = h5py.File('nonparametric_morphologies.hdf5','r') # Lee el archivo\n",
    "gini_ill = f['Snapshot_135']['gSDSS']['Gini_cam0'][:] \n",
    "m20_ill = f['Snapshot_135']['gSDSS']['M20_cam0'][:] \n",
    "\n",
    "# Observations\n",
    "#gini_obs1 = np.zeros(160)\n",
    "#m20_obs1 = np.zeros(160)\n",
    "#i=0\n",
    "#with open('Gini_M20_obs1.dat', 'r') as Gf1:\n",
    "#    for line in Gf1:\n",
    "#        mylist = line.split(\",\")\n",
    "#        gini_obs1[i] = float(mylist[0])\n",
    "#        m20_obs1[i] = float(mylist[1])\n",
    "#        i = i + 1\n",
    "     \n",
    "#Gini vs M20\n",
    "plt.scatter(m20_ill,gini_ill, marker ='.', color='red')    \n",
    "plt.scatter(m20_eag,gini_eag, marker ='.', color='green')\n",
    "#plt.scatter(m20_obs1,gini_obs1, marker ='.', color='red') \n",
    "#plt.plot(m20_obs1,0.7783 + 0.14 * m20_obs1, '-', color='black')\n",
    "plt.plot(m20_eag,0.7783 + 0.14 * m20_eag, '-', color='grey')\n",
    "#d = 5* abs(-0.14*m20_obs1 + gini_obs1 - 0.778)/1.009\n",
    "plt.title('Face/Random,r/g_band,z=0.1/0')\n",
    "plt.xlabel('M20') \n",
    "plt.ylabel('Gini') \n",
    "plt.xlim(-0.5, -3)\n",
    "plt.ylim(0.3, 0.75)\n",
    "#plt.loglog()\n",
    "plt.show() \n",
    "\n",
    "#Scatter plot coloreado por propiedad\n",
    "x = m20_eag\n",
    "y = gini_eag\n",
    "#c = np.log10(m_st)\n",
    "c = color_UB\n",
    "print(max(c),min(c))\n",
    "\n",
    "#index = np.where(c >= 5.0e13)\n",
    "#print len(c)\n",
    "#x = x[index]\n",
    "#y = y[index]\n",
    "#c = c[index]\n",
    "#print len(c)\n",
    "\n",
    "plt.scatter(x, y, s=10, c=c, alpha=0.5)\n",
    "plt.xlim(-0.5, -3)\n",
    "plt.ylim(0.3, 0.75)\n",
    "plt.show\n",
    "\n",
    "fig, ax = plt.subplots()\n",
    "im = ax.scatter(x, y, s=10, c=c, cmap=plt.cm.jet)\n",
    "#im = ax.scatter(x, y, c=c, cmap=plt.cm.jet, marker='.', s=0.1)\n",
    "\n",
    "plt.xlim(-0.5, -3)\n",
    "plt.ylim(0.3, 0.75)\n",
    "\n",
    "#axes = plt.gca()\n",
    "#axes.set_xlim([xmin,xmax])\n",
    "#axes.set_ylim([ymin,ymax])\n",
    "\n",
    "# Add a colorbar\n",
    "fig.colorbar(im, ax=ax)\n",
    "\n",
    "\n"
   ]
  },
  {
   "cell_type": "markdown",
   "metadata": {},
   "source": [
    "### Generación del mapa de pesos"
   ]
  },
  {
   "cell_type": "code",
   "execution_count": null,
   "metadata": {
    "collapsed": false
   },
   "outputs": [],
   "source": [
    "\n",
    "import numpy as np\n",
    "\n",
    "\n",
    "#image = fits.getdata(\"niriH.fits\")\n",
    "image = fits.getdata('/home/spedrosa/Projects/Eagle/fits_illus/broadband_132699.fits')\n",
    "#print image.shape\n",
    "\n",
    "#full_fit_path = os.path.join(fits_path, fit)\n",
    "    #print full_fit_path\n",
    "    # read datacube\n",
    "f = pf.open(image)\n",
    "cube = f[15].data\n",
    "header = f[15].header\n",
    "f.close()\n",
    "\n",
    "#I_mean = np.mean(image)\n",
    "\n",
    "#print I_mean\n",
    "\n",
    "#print(listsum(image))\n",
    "\n",
    "#for i in image.shape\n",
    "\n",
    "plt.imshow(image, cmap='gray')\n",
    "#plt.show(image_data)\n",
    "plt.colorbar()"
   ]
  }
 ],
 "metadata": {
  "kernelspec": {
   "display_name": "Python 3",
   "language": "python",
   "name": "python3"
  },
  "language_info": {
   "codemirror_mode": {
    "name": "ipython",
    "version": 3
   },
   "file_extension": ".py",
   "mimetype": "text/x-python",
   "name": "python",
   "nbconvert_exporter": "python",
   "pygments_lexer": "ipython3",
   "version": "3.5.2"
  }
 },
 "nbformat": 4,
 "nbformat_minor": 0
}
